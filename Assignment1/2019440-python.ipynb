{
 "cells": [
  {
   "cell_type": "markdown",
   "metadata": {},
   "source": [
    "# <center>Introduction to Quantitative Biology(BIO213-IQB)</center>\n",
    "## <center>Assignment 1</center>\n",
    "<h5><div style=\"text-align: right\">Efforts By: Pritish Wadhwa (2019440)</div></h5>\n",
    "<hr>"
   ]
  },
  {
   "cell_type": "code",
   "execution_count": 1,
   "metadata": {},
   "outputs": [],
   "source": [
    "import numpy as np\n",
    "import math as math"
   ]
  },
  {
   "cell_type": "code",
   "execution_count": 2,
   "metadata": {},
   "outputs": [],
   "source": [
    "dnaSeq1 = \"ATCAGAGTA\" \n",
    "dnaSeq2 = \"TTCAGTA\""
   ]
  },
  {
   "cell_type": "code",
   "execution_count": 3,
   "metadata": {},
   "outputs": [],
   "source": [
    "rows = len(dnaSeq1) + 1\n",
    "cols = len(dnaSeq2) + 1"
   ]
  },
  {
   "cell_type": "code",
   "execution_count": 4,
   "metadata": {},
   "outputs": [],
   "source": [
    "matchPenalty = 2\n",
    "mismatchPenalty = -1\n",
    "gapPenalty = -1"
   ]
  },
  {
   "cell_type": "code",
   "execution_count": 5,
   "metadata": {},
   "outputs": [],
   "source": [
    "dpMatrix = np.zeros((rows, cols), dtype = np.int)"
   ]
  },
  {
   "cell_type": "code",
   "execution_count": 6,
   "metadata": {},
   "outputs": [],
   "source": [
    "visited = np.zeros((rows, cols), dtype=np.int)"
   ]
  },
  {
   "cell_type": "code",
   "execution_count": 7,
   "metadata": {},
   "outputs": [],
   "source": [
    "def isValid(i, j):\n",
    "    if i == 0:\n",
    "        # if dpMatrix[i][j-1] == 0:\n",
    "        if dpMatrix[i][j-1] + gapPenalty != dpMatrix[i][j]:\n",
    "            return True\n",
    "        else:\n",
    "            return False\n",
    "    elif j == 0:\n",
    "        # if dpMatrix[i-1][j] == 0:\n",
    "        if dpMatrix[i-1][j] + gapPenalty != dpMatrix[i][j]:\n",
    "            return True\n",
    "        else:\n",
    "            return False\n",
    "    else:\n",
    "        if (dpMatrix[i-1][j] + gapPenalty != dpMatrix[i][j]) and (dpMatrix[i][j-1] + gapPenalty != dpMatrix[i][j]) and (dpMatrix[i-1][j-1] + mismatchPenalty != dpMatrix[i][j]):\n",
    "            return True\n",
    "        else:\n",
    "            return False"
   ]
  },
  {
   "cell_type": "code",
   "execution_count": 8,
   "metadata": {},
   "outputs": [],
   "source": [
    "def calculateScore(seq1, seq2):\n",
    "    score = 0\n",
    "    for i in range(len(seq1)):\n",
    "        if seq1[i] == ' ':\n",
    "            continue\n",
    "        elif seq1[i] == seq2[i]:\n",
    "            score += matchPenalty\n",
    "        elif seq1[i] != seq2[i]:\n",
    "            if seq1[i] == '-' or seq2[i] == '-':\n",
    "                score += gapPenalty\n",
    "            else:\n",
    "                score += mismatchPenalty\n",
    "    return score"
   ]
  },
  {
   "cell_type": "code",
   "execution_count": 9,
   "metadata": {},
   "outputs": [],
   "source": [
    "def printSequences(seq1, seq2):\n",
    "    seq1 = seq1.replace(\"\", \" \")\n",
    "    seq2 = seq2.replace(\"\", \" \")\n",
    "    seq1 = seq1[1: -1]\n",
    "    seq2 = seq2[1: -1]\n",
    "    score = calculateScore(seq1, seq2)\n",
    "    print(seq1)\n",
    "    for i in range(len(seq1)):\n",
    "        if seq1[i] == ' ' or seq1[i] != seq2[i] or seq1[i] == seq2[i] == '-':\n",
    "            print(' ', end = '')\n",
    "        elif seq1[i] == seq2[i]:\n",
    "            print('|', end = '')\n",
    "    print()\n",
    "    print(seq2)\n",
    "    print(\"The alignment score for the above sequences with given penalties is: \" + str(score))\n",
    "    print()"
   ]
  },
  {
   "cell_type": "code",
   "execution_count": 10,
   "metadata": {},
   "outputs": [],
   "source": [
    "def printMatrix():\n",
    "    for i in range(rows):\n",
    "        for j in range(cols):\n",
    "            print(dpMatrix[i][j], end = \"\\t\")\n",
    "        print()"
   ]
  },
  {
   "cell_type": "code",
   "execution_count": 11,
   "metadata": {},
   "outputs": [],
   "source": [
    "def globalAlignment(rows, cols, seq1, seq2):\n",
    "    for i in range(1, rows):\n",
    "        for j in range(1, cols):\n",
    "            if seq1[i-1] == seq2[j-1]:\n",
    "                dpMatrix[i][j] = dpMatrix[i-1][j-1] + matchPenalty\n",
    "            else:\n",
    "                dpMatrix[i][j] = max(dpMatrix[i-1][j-1] + mismatchPenalty, dpMatrix[i-1][j] + gapPenalty, dpMatrix[i][j-1] + gapPenalty)"
   ]
  },
  {
   "cell_type": "code",
   "execution_count": 12,
   "metadata": {},
   "outputs": [],
   "source": [
    "def localAlignment(rows, cols, seq1, seq2):\n",
    "    maxVal = -math.inf\n",
    "    l = []\n",
    "    for i in range(0, rows):\n",
    "        for j in range(0, cols):\n",
    "            if i == 0 or j == 0:\n",
    "                dpMatrix[i][j] = 0\n",
    "            elif seq1[i-1] == seq2[j-1]:\n",
    "                dpMatrix[i][j] = dpMatrix[i-1][j-1] + matchPenalty\n",
    "            else:\n",
    "                dpMatrix[i][j] = max(0, dpMatrix[i-1][j-1] + mismatchPenalty, dpMatrix[i-1][j] + gapPenalty, dpMatrix[i][j-1] + gapPenalty)\n",
    "            if dpMatrix[i][j] >= maxVal:\n",
    "                maxVal = dpMatrix[i][j]\n",
    "    for i in range(0, rows):\n",
    "        for j in range(0, cols):\n",
    "            if dpMatrix[i][j] == maxVal:\n",
    "                l.append((i, j))\n",
    "    return l"
   ]
  },
  {
   "cell_type": "code",
   "execution_count": 13,
   "metadata": {},
   "outputs": [],
   "source": [
    "def generateSequences(i, j, seq1, seq2, ans1, ans2):\n",
    "    if (i == 0 and j == 0) or (dpMatrix[i][j] == 0 and isValid(i, j)):\n",
    "        ans1 = ans1[::-1]\n",
    "        ans2 = ans2[::-1]\n",
    "        printSequences(ans1, ans2)\n",
    "        return\n",
    "    elif dpMatrix[i][j] == 0:\n",
    "        ans1 = ans1[::-1]\n",
    "        ans2 = ans2[::-1]\n",
    "        printSequences(ans1, ans2)\n",
    "    elif i < 0 or j < 0 or visited[i][j] == 1:\n",
    "        return\n",
    "    visited[i][j] = 1\n",
    "    flag = 0\n",
    "    if seq1[i-1] == seq2[j-1]:\n",
    "        flag = 1\n",
    "        generateSequences(i-1, j-1, seq1, seq2, ans1 + seq1[i-1], ans2 + seq2[j-1])\n",
    "    if dpMatrix[i][j] == dpMatrix[i-1][j-1] + mismatchPenalty:\n",
    "        flag = 1\n",
    "        generateSequences(i-1, j-1, seq1, seq2, ans1 + seq1[i-1], ans2 + seq2[j-1])\n",
    "    if dpMatrix[i][j] == dpMatrix[i-1][j] + gapPenalty:\n",
    "        flag = 1\n",
    "        generateSequences(i-1, j, seq1, seq2, ans1 + seq1[i-1], ans2 + '-')\n",
    "    if dpMatrix[i][j] == dpMatrix[i][j-1] + gapPenalty:\n",
    "        flag = 1\n",
    "        generateSequences(i, j-1, seq1, seq2, ans1 + '-', ans2 + seq2[j-1])\n",
    "    if flag == 0:\n",
    "        generateSequences(i-1, j-1, seq1, seq2, ans1 + '-', ans2 + '-')\n",
    "    visited[i][j] = 0"
   ]
  },
  {
   "cell_type": "markdown",
   "metadata": {},
   "source": [
    "## Question 1)\n",
    "<hr>"
   ]
  },
  {
   "cell_type": "code",
   "execution_count": 14,
   "metadata": {},
   "outputs": [],
   "source": [
    "for i in range(rows):\n",
    "    dpMatrix[i][0] = -1 * i\n",
    "for j in range(cols):\n",
    "    dpMatrix[0][j] = -1 * j "
   ]
  },
  {
   "cell_type": "code",
   "execution_count": 15,
   "metadata": {},
   "outputs": [],
   "source": [
    "globalAlignment(rows, cols, dnaSeq1, dnaSeq2)"
   ]
  },
  {
   "cell_type": "markdown",
   "metadata": {},
   "source": [
    "### 1-a) \n",
    "The generated dynamic programming matrix:"
   ]
  },
  {
   "cell_type": "code",
   "execution_count": 16,
   "metadata": {},
   "outputs": [
    {
     "output_type": "stream",
     "name": "stdout",
     "text": [
      "0\t-1\t-2\t-3\t-4\t-5\t-6\t-7\t\n-1\t-1\t-2\t-3\t-1\t-2\t-3\t-4\t\n-2\t1\t1\t0\t-1\t-2\t0\t-1\t\n-3\t0\t0\t3\t2\t1\t0\t-1\t\n-4\t-1\t-1\t2\t5\t4\t3\t2\t\n-5\t-2\t-2\t1\t4\t7\t6\t5\t\n-6\t-3\t-3\t0\t3\t6\t6\t8\t\n-7\t-4\t-4\t-1\t2\t5\t5\t7\t\n-8\t-5\t-2\t-2\t1\t4\t7\t6\t\n-9\t-6\t-3\t-3\t0\t3\t6\t9\t\n"
     ]
    }
   ],
   "source": [
    "printMatrix()"
   ]
  },
  {
   "cell_type": "markdown",
   "metadata": {},
   "source": [
    "### 1-b) \n",
    "Yes, There are more than 1 optimal alingments for the given pair of DNA Sequences. This occurs because, the highest possible alignment score for the given pair of sequences is possible in more than 1 way"
   ]
  },
  {
   "cell_type": "markdown",
   "metadata": {},
   "source": [
    "### 1-c)\n",
    "The global allignments with their scores are:"
   ]
  },
  {
   "cell_type": "code",
   "execution_count": 17,
   "metadata": {},
   "outputs": [
    {
     "output_type": "stream",
     "name": "stdout",
     "text": [
      "A T C A G A G T A\n  | |     | | | |\nT T C - - A G T A\nThe alignment score for the above sequences with given penalties is: 9\n\nA T C A G A G T A\n  | | |     | | |\nT T C A - - G T A\nThe alignment score for the above sequences with given penalties is: 9\n\nA T C A G A G T A\n  | | | |     | |\nT T C A G - - T A\nThe alignment score for the above sequences with given penalties is: 9\n\n"
     ]
    }
   ],
   "source": [
    "generateSequences(rows - 1, cols - 1, dnaSeq1, dnaSeq2, \"\", \"\")"
   ]
  },
  {
   "cell_type": "markdown",
   "metadata": {},
   "source": [
    "## Question 2)\n",
    "<hr>"
   ]
  },
  {
   "cell_type": "code",
   "execution_count": 18,
   "metadata": {},
   "outputs": [],
   "source": [
    "l = localAlignment(rows, cols, dnaSeq1, dnaSeq2)"
   ]
  },
  {
   "cell_type": "markdown",
   "metadata": {},
   "source": [
    "### 2-a) \n",
    "The generated dynamic programming matrix:"
   ]
  },
  {
   "cell_type": "code",
   "execution_count": 19,
   "metadata": {},
   "outputs": [
    {
     "output_type": "stream",
     "name": "stdout",
     "text": [
      "0\t0\t0\t0\t0\t0\t0\t0\t\n0\t0\t0\t0\t2\t1\t0\t2\t\n0\t2\t2\t1\t1\t1\t3\t2\t\n0\t1\t1\t4\t3\t2\t2\t2\t\n0\t0\t0\t3\t6\t5\t4\t4\t\n0\t0\t0\t2\t5\t8\t7\t6\t\n0\t0\t0\t1\t4\t7\t7\t9\t\n0\t0\t0\t0\t3\t6\t6\t8\t\n0\t2\t2\t1\t2\t5\t8\t7\t\n0\t1\t1\t1\t3\t4\t7\t10\t\n"
     ]
    }
   ],
   "source": [
    "printMatrix()"
   ]
  },
  {
   "cell_type": "markdown",
   "metadata": {},
   "source": [
    "### 2-b)\n",
    "The local allignments with their scores are:"
   ]
  },
  {
   "cell_type": "code",
   "execution_count": 20,
   "metadata": {},
   "outputs": [
    {
     "output_type": "stream",
     "name": "stdout",
     "text": [
      "T C A G A G T A\n| |     | | | |\nT C - - A G T A\nThe alignment score for the above sequences with given penalties is: 10\n\nT C A G A G T A\n| | |     | | |\nT C A - - G T A\nThe alignment score for the above sequences with given penalties is: 10\n\nT C A G A G T A\n| | | |     | |\nT C A G - - T A\nThe alignment score for the above sequences with given penalties is: 10\n\n"
     ]
    }
   ],
   "source": [
    "for i in l:\n",
    "    generateSequences(i[0], i[1], dnaSeq1, dnaSeq2, \"\", \"\")"
   ]
  },
  {
   "cell_type": "markdown",
   "metadata": {},
   "source": [
    "## Question 3)\n",
    "<hr>\n",
    "The changes required in the in program to perform local alignment rather then global alignment are:\n",
    "<ul>\n",
    "<li>For the global alignment, the entries of the 0th row and column were initialised with 0, -1, -2 and so on, whereas in the local aligment, the entries of the 0th row and column were initialised by 0.</li>\n",
    "<li>For the other entries, in the dp matrix of the global alignmnet, -ve values are possible but that is not the case for the dp matrix of local alignment. There the entries can only be a whole number.</li>\n",
    "<li>The above points are valid because while in the global alignment, while filling the table, only the maximum value of the adjoining cells with the added penalties are considered, whereas in the local alignment, while filling the table, the maximum of the adoining cells with added penalties with 0 is considered.</li>\n",
    "<li>While reconstructing the sequence, in the global alignment, the maximum value is always at the last cell of the matrix, where as the maximum value in the local alignment can be anywhere in the matrix, not necessarily at the very end.</li>\n",
    "<li>In global alignment, while only one cell can accomodate the maximum value, whereas in local alignment, the maximum value can present in multiple cells.</li>\n",
    "<li>In the global alignment, the base case is reached when you are at the 0,0th cell, whereas in local alignment, the base case is reached when, you can't move anywhere from the current cell, and the current cell has the value 0 in it.</li>\n",
    "</ul>"
   ]
  },
  {
   "cell_type": "markdown",
   "metadata": {},
   "source": [
    "## Question 4)\n",
    "<hr>"
   ]
  },
  {
   "cell_type": "code",
   "execution_count": 21,
   "metadata": {},
   "outputs": [],
   "source": [
    "matchPenalty = 2\n",
    "mismatchPenalty = -1\n",
    "gapPenalty = -2"
   ]
  },
  {
   "cell_type": "markdown",
   "metadata": {},
   "source": [
    "### Global Alignment"
   ]
  },
  {
   "cell_type": "code",
   "execution_count": 22,
   "metadata": {},
   "outputs": [],
   "source": [
    "for i in range(rows):\n",
    "    dpMatrix[i][0] = -1 * i\n",
    "for j in range(cols):\n",
    "    dpMatrix[0][j] = -1 * j \n",
    "globalAlignment(rows, cols, dnaSeq1, dnaSeq2)"
   ]
  },
  {
   "source": [
    "#### Generated Dynamic Programming Matrix:"
   ],
   "cell_type": "markdown",
   "metadata": {}
  },
  {
   "cell_type": "code",
   "execution_count": 23,
   "metadata": {},
   "outputs": [
    {
     "output_type": "stream",
     "name": "stdout",
     "text": [
      "0\t-1\t-2\t-3\t-4\t-5\t-6\t-7\t\n-1\t-1\t-2\t-3\t-1\t-3\t-5\t-4\t\n-2\t1\t1\t-1\t-3\t-2\t-1\t-3\t\n-3\t-1\t0\t3\t1\t-1\t-3\t-2\t\n-4\t-3\t-2\t1\t5\t3\t1\t-1\t\n-5\t-5\t-4\t-1\t3\t7\t5\t3\t\n-6\t-6\t-6\t-3\t1\t5\t6\t7\t\n-7\t-7\t-7\t-5\t-1\t3\t4\t5\t\n-8\t-5\t-5\t-7\t-3\t1\t5\t3\t\n-9\t-7\t-6\t-6\t-5\t-1\t3\t7\t\n"
     ]
    }
   ],
   "source": [
    "printMatrix()"
   ]
  },
  {
   "source": [
    "#### Optimally Aligned Sequences:"
   ],
   "cell_type": "markdown",
   "metadata": {}
  },
  {
   "cell_type": "code",
   "execution_count": 24,
   "metadata": {},
   "outputs": [
    {
     "output_type": "stream",
     "name": "stdout",
     "text": [
      "A T C A G A G T A\n  | |     | | | |\nT T C - - A G T A\nThe alignment score for the above sequences with given penalties is: 7\n\nA T C A G A G T A\n  | | |     | | |\nT T C A - - G T A\nThe alignment score for the above sequences with given penalties is: 7\n\nA T C A G A G T A\n  | | | |     | |\nT T C A G - - T A\nThe alignment score for the above sequences with given penalties is: 7\n\n"
     ]
    }
   ],
   "source": [
    "generateSequences(rows - 1, cols - 1, dnaSeq1, dnaSeq2, \"\", \"\")"
   ]
  },
  {
   "cell_type": "markdown",
   "metadata": {},
   "source": [
    "<ul>\n",
    "<li>After updatind the scoring scheme, even though the generated sequence didn't change, the corresponding score did change.</li>\n",
    "<li>This was because, as in global alignments, there has to the complete involvement of both the subsequences.</li>\n",
    "<li>Since the difference in the 2 strings is of 2 characters, there has to be atleast 2 gaps to be inserted.</li>\n",
    "<li>Now since the gap penalty is made more negative, thus, the DP Matrix changes.</li>\n",
    "<li>Since the difference in the new values was not that much significant for the given sequences when being considered for global alignment, we get the same old alignments but a different score for each</li>\n",
    "</ul>"
   ]
  },
  {
   "source": [
    "### Local Alignment"
   ],
   "cell_type": "markdown",
   "metadata": {}
  },
  {
   "cell_type": "code",
   "execution_count": 25,
   "metadata": {},
   "outputs": [],
   "source": [
    "l = localAlignment(rows, cols, dnaSeq1, dnaSeq2)"
   ]
  },
  {
   "cell_type": "code",
   "execution_count": 26,
   "metadata": {},
   "outputs": [
    {
     "output_type": "stream",
     "name": "stdout",
     "text": [
      "[(5, 5), (6, 7), (9, 7)]\n"
     ]
    }
   ],
   "source": [
    "print(l)"
   ]
  },
  {
   "source": [
    "#### Generated Dynamic Programming Matrix:"
   ],
   "cell_type": "markdown",
   "metadata": {}
  },
  {
   "cell_type": "code",
   "execution_count": 27,
   "metadata": {},
   "outputs": [
    {
     "output_type": "stream",
     "name": "stdout",
     "text": [
      "0\t0\t0\t0\t0\t0\t0\t0\t\n0\t0\t0\t0\t2\t0\t0\t2\t\n0\t2\t2\t0\t0\t1\t2\t0\t\n0\t0\t1\t4\t2\t0\t0\t1\t\n0\t0\t0\t2\t6\t4\t2\t2\t\n0\t0\t0\t0\t4\t8\t6\t4\t\n0\t0\t0\t0\t2\t6\t7\t8\t\n0\t0\t0\t0\t0\t4\t5\t6\t\n0\t2\t2\t0\t0\t2\t6\t4\t\n0\t0\t1\t1\t2\t0\t4\t8\t\n"
     ]
    }
   ],
   "source": [
    "printMatrix()"
   ]
  },
  {
   "source": [
    "#### Optimally Aligned Sequences:"
   ],
   "cell_type": "markdown",
   "metadata": {}
  },
  {
   "cell_type": "code",
   "execution_count": 28,
   "metadata": {},
   "outputs": [
    {
     "output_type": "stream",
     "name": "stdout",
     "text": [
      "T C A G\n| | | |\nT C A G\nThe alignment score for the above sequences with given penalties is: 8\n\nT C A G - A\n| | | |   |\nT C A G T A\nThe alignment score for the above sequences with given penalties is: 8\n\nA G T A\n| | | |\nA G T A\nThe alignment score for the above sequences with given penalties is: 8\n\nT C A G A T G A\n| |     | | | |\nT C - - A T G A\nThe alignment score for the above sequences with given penalties is: 8\n\nT C A G A G T A\n| | |     | | |\nT C A - - G T A\nThe alignment score for the above sequences with given penalties is: 8\n\nT C A G A G T A\n| | | |     | |\nT C A G - - T A\nThe alignment score for the above sequences with given penalties is: 8\n\n"
     ]
    }
   ],
   "source": [
    "for i in l:\n",
    "    generateSequences(i[0], i[1], dnaSeq1, dnaSeq2, \"\", \"\")"
   ]
  },
  {
   "source": [
    "<ul>\n",
    "<li>After updatind the scoring scheme, the generated sequences changed and the corresponding score did change.</li>\n",
    "<li>This was because, as in local alignment, unlike global one, there is no need for complete involvement of both the subsequences.</li>\n",
    "<li>Now since the gap penalty is made more negative, thus, the DP Matrix changes.</li>\n",
    "<li>Since the difference in the new values was significant for the given sequences when being considered for local alignment, we get three more sequences, along with the ones we got with the previos scoring scheme.</li>\n",
    "</ul>"
   ],
   "cell_type": "markdown",
   "metadata": {}
  }
 ],
 "metadata": {
  "kernelspec": {
   "display_name": "Python 3",
   "language": "python",
   "name": "python3"
  },
  "language_info": {
   "codemirror_mode": {
    "name": "ipython",
    "version": 3
   },
   "file_extension": ".py",
   "mimetype": "text/x-python",
   "name": "python",
   "nbconvert_exporter": "python",
   "pygments_lexer": "ipython3",
   "version": "3.9.1-final"
  }
 },
 "nbformat": 4,
 "nbformat_minor": 2
}