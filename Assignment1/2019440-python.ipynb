{
 "metadata": {
  "language_info": {
   "codemirror_mode": {
    "name": "ipython",
    "version": 3
   },
   "file_extension": ".py",
   "mimetype": "text/x-python",
   "name": "python",
   "nbconvert_exporter": "python",
   "pygments_lexer": "ipython3",
   "version": "3.9.1-final"
  },
  "orig_nbformat": 2,
  "kernelspec": {
   "name": "python3",
   "display_name": "Python 3",
   "language": "python"
  }
 },
 "nbformat": 4,
 "nbformat_minor": 2,
 "cells": [
  {
   "cell_type": "code",
   "execution_count": 1,
   "metadata": {},
   "outputs": [],
   "source": [
    "import numpy as np"
   ]
  },
  {
   "cell_type": "code",
   "execution_count": 2,
   "metadata": {},
   "outputs": [],
   "source": [
    "matchPenalty = 2\n",
    "mismatchPenalty = -1\n",
    "gapPenalty = -1"
   ]
  },
  {
   "cell_type": "code",
   "execution_count": 3,
   "metadata": {},
   "outputs": [],
   "source": [
    "dnaSeq1 = \"ATCAGAGTA\" \n",
    "dnaSeq2 = \"TTCAGTA\""
   ]
  },
  {
   "cell_type": "code",
   "execution_count": 4,
   "metadata": {},
   "outputs": [],
   "source": [
    "rows = len(dnaSeq1) + 1\n",
    "cols = len(dnaSeq2) + 1"
   ]
  },
  {
   "cell_type": "code",
   "execution_count": 5,
   "metadata": {},
   "outputs": [
    {
     "output_type": "execute_result",
     "data": {
      "text/plain": [
       "(6, 5)"
      ]
     },
     "metadata": {},
     "execution_count": 5
    }
   ],
   "source": [
    "dpMatrix = np.zeros((rows, cols), dtype = np.int)\n",
    "dpMatrix.shape"
   ]
  },
  {
   "cell_type": "code",
   "execution_count": 6,
   "metadata": {},
   "outputs": [],
   "source": [
    "def printMatrix():\n",
    "    for i in range(rows):\n",
    "        for j in range(cols):\n",
    "            print(dpMatrix[i][j], end = \" \")\n",
    "        print()"
   ]
  },
  {
   "cell_type": "code",
   "execution_count": 7,
   "metadata": {},
   "outputs": [],
   "source": [
    "for i in range(rows):\n",
    "    dpMatrix[i][0] = -1 * i\n",
    "for j in range(cols):\n",
    "    dpMatrix[0][j] = -1 * j "
   ]
  },
  {
   "cell_type": "code",
   "execution_count": 8,
   "metadata": {},
   "outputs": [
    {
     "output_type": "stream",
     "name": "stdout",
     "text": [
      "0 -1 -2 -3 -4 \n-1 0 0 0 0 \n-2 0 0 0 0 \n-3 0 0 0 0 \n-4 0 0 0 0 \n-5 0 0 0 0 \n"
     ]
    }
   ],
   "source": [
    "printMatrix()"
   ]
  },
  {
   "cell_type": "code",
   "execution_count": 9,
   "metadata": {},
   "outputs": [],
   "source": [
    "def globalAlignment(rows, cols, seq1, seq2):\n",
    "    for i in range(1, rows):\n",
    "        for j in range(1, cols):\n",
    "            if seq1[i-1] == seq2[j-1]:\n",
    "                dpMatrix[i][j] = dpMatrix[i-1][j-1] + matchPenalty\n",
    "            else:\n",
    "                dpMatrix[i][j] = max(dpMatrix[i-1][j-1] + mismatchPenalty, dpMatrix[i-1][j] + gapPenalty, dpMatrix[i][j-1] + gapPenalty)"
   ]
  },
  {
   "cell_type": "code",
   "execution_count": 10,
   "metadata": {},
   "outputs": [],
   "source": [
    "globalAlignment(rows, cols, dnaSeq1, dnaSeq2)"
   ]
  },
  {
   "cell_type": "code",
   "execution_count": 11,
   "metadata": {},
   "outputs": [
    {
     "output_type": "stream",
     "name": "stdout",
     "text": [
      "0 -1 -2 -3 -4 \n-1 2 1 0 -1 \n-2 1 4 3 2 \n-3 0 3 3 2 \n-4 -1 2 2 2 \n-5 -2 1 1 4 \n"
     ]
    }
   ],
   "source": [
    "printMatrix()"
   ]
  },
  {
   "cell_type": "code",
   "execution_count": 12,
   "metadata": {},
   "outputs": [
    {
     "output_type": "execute_result",
     "data": {
      "text/plain": [
       "5"
      ]
     },
     "metadata": {},
     "execution_count": 12
    }
   ],
   "source": [
    "len(dnaSeq1)"
   ]
  },
  {
   "cell_type": "code",
   "execution_count": 13,
   "metadata": {},
   "outputs": [],
   "source": [
    "def localAlignment(rows, cols, seq1, seq2):\n",
    "    for i in range(0, rows):\n",
    "        for j in range(0, cols):\n",
    "            if i == 0 or j == 0:\n",
    "                dpMatrix[i][j] = 0\n",
    "            elif seq1[i-1] == seq2[j-1]:\n",
    "                dpMatrix[i][j] = dpMatrix[i-1][j-1] + matchPenalty\n",
    "            else:\n",
    "                dpMatrix[i][j] = max(0, dpMatrix[i-1][j-1] + mismatchPenalty, dpMatrix[i-1][j] + gapPenalty, dpMatrix[i][j-1] + gapPenalty)"
   ]
  },
  {
   "cell_type": "code",
   "execution_count": 14,
   "metadata": {},
   "outputs": [],
   "source": [
    "# localAlignment(rows, cols, dnaSeq1, dnaSeq2)"
   ]
  },
  {
   "cell_type": "code",
   "execution_count": 15,
   "metadata": {},
   "outputs": [
    {
     "output_type": "stream",
     "name": "stdout",
     "text": [
      "0 -1 -2 -3 -4 \n-1 2 1 0 -1 \n-2 1 4 3 2 \n-3 0 3 3 2 \n-4 -1 2 2 2 \n-5 -2 1 1 4 \n"
     ]
    }
   ],
   "source": [
    "printMatrix()"
   ]
  },
  {
   "cell_type": "code",
   "execution_count": 16,
   "metadata": {},
   "outputs": [],
   "source": [
    "visited = np.zeros((rows, cols), dtype=np.int)"
   ]
  },
  {
   "cell_type": "code",
   "execution_count": 17,
   "metadata": {},
   "outputs": [
    {
     "output_type": "stream",
     "name": "stdout",
     "text": [
      "0 -1 -2 -3 -4 \n-1 2 1 0 -1 \n-2 1 4 3 2 \n-3 0 3 3 2 \n-4 -1 2 2 2 \n-5 -2 1 1 4 \n"
     ]
    }
   ],
   "source": [
    "printMatrix()"
   ]
  },
  {
   "cell_type": "code",
   "execution_count": 18,
   "metadata": {},
   "outputs": [
    {
     "output_type": "stream",
     "name": "stdout",
     "text": [
      "[[0 0 0 0 0]\n [0 0 0 0 0]\n [0 0 0 0 0]\n [0 0 0 0 0]\n [0 0 0 0 0]\n [0 0 0 0 0]]\n(6, 5)\n0 -1 -2 -3 -4 \n-1 2 1 0 -1 \n-2 1 4 3 2 \n-3 0 3 3 2 \n-4 -1 2 2 2 \n-5 -2 1 1 4 \n"
     ]
    }
   ],
   "source": [
    "print(visited)\n",
    "print(visited.shape)\n",
    "printMatrix()"
   ]
  },
  {
   "cell_type": "code",
   "execution_count": 19,
   "metadata": {},
   "outputs": [],
   "source": [
    "def generateSequences(i, j, seq1, seq2, ans1, ans2):\n",
    "    if i == 0 and j == 0:\n",
    "        ans1 = ans1[::-1]\n",
    "        ans2 = ans2[::-1]\n",
    "        print(ans1)\n",
    "        print(ans2)\n",
    "        print()\n",
    "        return\n",
    "    elif i < 0 or j < 0 or visited[i][j] == 1:\n",
    "    # if i<0 or j<0:\n",
    "        return\n",
    "    visited[i][j] = 1\n",
    "    flag = 0\n",
    "    if seq1[i-1] == seq2[j-1]:\n",
    "        flag = 1\n",
    "        generateSequences(i-1, j-1, seq1, seq2, ans1 + seq1[i-1], ans2 + seq2[j-1])\n",
    "        # generateSequences(i-1, j-1, seq1, seq2, ans + str(dpMatrix[i][j]))\n",
    "    # else:\n",
    "    if dpMatrix[i][j] == dpMatrix[i-1][j-1] + mismatchPenalty:\n",
    "        flag = 1\n",
    "        # print(1)\n",
    "        # generateSequences(i-1, j-1, seq1, seq2, ans + seq1[i-1])\n",
    "        generateSequences(i-1, j-1, seq1, seq2, ans1 + seq1[i-1], ans2 + seq2[j-1])\n",
    "        # generateSequences(i-1, j-1, seq1, seq2, ans + str(dpMatrix[i-1][j-1]))\n",
    "        # generateSequences(i-1, j-1, seq1, seq2, ans + str(dpMatrix[i-1][j-1]))\n",
    "    if dpMatrix[i][j] == dpMatrix[i-1][j] + gapPenalty:\n",
    "        flag = 1\n",
    "        # print(2)\n",
    "        # generateSequences(i-1, j, seq1, seq2, ans1 + '-', ans2 + seq2[j-1])\n",
    "        generateSequences(i-1, j, seq1, seq2, ans1 + seq1[i-1], ans2 + '-')\n",
    "        # return\n",
    "        # generateSequences(i-1, j, seq1, seq2, ans + '-')\n",
    "        # generateSequences(i-1, j, seq1, seq2, ans + str(dpMatrix[i-1][j]))\n",
    "    if dpMatrix[i][j] == dpMatrix[i][j-1] + gapPenalty:\n",
    "        flag = 1\n",
    "        # print(3)\n",
    "        # generateSequences(i, j-1, seq1, seq2, ans1 + seq1[i-1], ans2 + '-')\n",
    "        generateSequences(i, j-1, seq1, seq2, ans1 + '-', ans2 + seq2[j-1])\n",
    "        # return\n",
    "        # generateSequences(i-1, j, seq1, seq2, ans + '-')\n",
    "        # generateSequences(i-1, j, seq1, seq2, ans + str(dpMatrix[i][j-1]))\n",
    "    if flag == 0:\n",
    "        generateSequences(i-1, j-1, seq1, seq2, ans1 + '-', ans2 + '-')\n",
    "    visited[i][j] = 0"
   ]
  },
  {
   "cell_type": "code",
   "execution_count": 20,
   "metadata": {},
   "outputs": [
    {
     "output_type": "stream",
     "name": "stdout",
     "text": [
      "ATTAC\nA-TGC\n\nATTAC\nAT-GC\n\nATTAC\nATG-C\n\n"
     ]
    }
   ],
   "source": [
    "generateSequences(rows-1, cols-1, dnaSeq1, dnaSeq2, \"\", \"\")"
   ]
  },
  {
   "cell_type": "code",
   "execution_count": 21,
   "metadata": {},
   "outputs": [],
   "source": [
    "matchPenalty = 2\n",
    "mismatchPenalty = -3\n",
    "gapPenalty = -2"
   ]
  },
  {
   "cell_type": "code",
   "execution_count": 22,
   "metadata": {},
   "outputs": [],
   "source": [
    "globalAlignment(rows, cols, dnaSeq1, dnaSeq2)"
   ]
  },
  {
   "cell_type": "code",
   "execution_count": 23,
   "metadata": {},
   "outputs": [
    {
     "output_type": "stream",
     "name": "stdout",
     "text": [
      "0 -1 -2 -3 -4 \n-1 2 0 -2 -4 \n-2 0 4 2 0 \n-3 -2 2 1 -1 \n-4 -1 0 -1 -2 \n-5 -3 -2 -3 1 \n"
     ]
    }
   ],
   "source": [
    "printMatrix()"
   ]
  },
  {
   "cell_type": "code",
   "execution_count": 24,
   "metadata": {},
   "outputs": [
    {
     "output_type": "stream",
     "name": "stdout",
     "text": [
      "ATTAC\nA-TGC\n\nATTAC\nAT-GC\n\nATTAC\nATG-C\n\n"
     ]
    }
   ],
   "source": [
    "generateSequences(rows-1, cols-1, dnaSeq1, dnaSeq2, \"\", \"\")"
   ]
  },
  {
   "cell_type": "code",
   "execution_count": null,
   "metadata": {},
   "outputs": [],
   "source": []
  },
  {
   "cell_type": "code",
   "execution_count": null,
   "metadata": {},
   "outputs": [],
   "source": []
  }
 ]
}