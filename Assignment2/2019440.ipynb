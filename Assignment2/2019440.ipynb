{
 "metadata": {
  "language_info": {
   "codemirror_mode": {
    "name": "ipython",
    "version": 3
   },
   "file_extension": ".py",
   "mimetype": "text/x-python",
   "name": "python",
   "nbconvert_exporter": "python",
   "pygments_lexer": "ipython3",
   "version": "3.9.1-final"
  },
  "orig_nbformat": 2,
  "kernelspec": {
   "name": "python391jvsc74a57bd07812ea015bdcee6f23a998adcdd2ef97c151c0c241b7b7070987d9313e41299d",
   "display_name": "Python 3.9.1 64-bit"
  },
  "metadata": {
   "interpreter": {
    "hash": "7812ea015bdcee6f23a998adcdd2ef97c151c0c241b7b7070987d9313e41299d"
   }
  }
 },
 "nbformat": 4,
 "nbformat_minor": 2,
 "cells": [
  {
   "source": [
    "# <center>Introduction to Quantitative Biology(BIO213-IQB)</center>\n",
    "## <center>Assignment 2</center>\n",
    "<h5><div style=\"text-align: right\">Efforts By: Pritish Wadhwa (2019440)</div></h5>\n",
    "<hr>"
   ],
   "cell_type": "markdown",
   "metadata": {}
  },
  {
   "cell_type": "code",
   "execution_count": 85,
   "metadata": {},
   "outputs": [],
   "source": [
    "# creating Protein class with details like shorthand notation, name of protien, it's alpha and beta propensities along with the alpha and beta parameter\n",
    "class Protein:\n",
    "    def __init__(self, shortHand, name, alphaPropensity, alphaParam, betaPropensity, betaParam):\n",
    "        self.shortHand = shortHand\n",
    "        self.name = name\n",
    "        self.alphaPropensity = alphaPropensity\n",
    "        self.alphaParam = alphaParam\n",
    "        self.betaPropensity = betaPropensity\n",
    "        self.betaParam = betaParam"
   ]
  },
  {
   "cell_type": "code",
   "execution_count": 86,
   "metadata": {},
   "outputs": [],
   "source": [
    "# creating a list of protiens\n",
    "proteins = []\n",
    "proteins.append(Protein(shortHand='A', name='Ala', alphaPropensity=1.45,\n",
    "                        alphaParam=1, betaPropensity=0.97, betaParam=0.5))\n",
    "proteins.append(Protein(shortHand='R', name='Arg', alphaPropensity=0.79,\n",
    "                        alphaParam=0, betaPropensity=0.90, betaParam=0))\n",
    "proteins.append(Protein(shortHand='N', name='Asn', alphaPropensity=0.73,\n",
    "                        alphaParam=-1, betaPropensity=0.65, betaParam=-1))\n",
    "proteins.append(Protein(shortHand='D', name='Asp', alphaPropensity=0.98,\n",
    "                        alphaParam=0, betaPropensity=0.80, betaParam=0))\n",
    "proteins.append(Protein(shortHand='C', name='Cys', alphaPropensity=0.77,\n",
    "                        alphaParam=0, betaPropensity=1.30, betaParam=1))\n",
    "proteins.append(Protein(shortHand='Q', name='Gln', alphaPropensity=1.17,\n",
    "                        alphaParam=1, betaPropensity=1.23, betaParam=1))\n",
    "proteins.append(Protein(shortHand='E', name='Glu', alphaPropensity=1.53,\n",
    "                        alphaParam=1, betaPropensity=0.26, betaParam=-1))\n",
    "proteins.append(Protein(shortHand='G', name='Gly', alphaPropensity=0.53,\n",
    "                        alphaParam=-1, betaPropensity=0.81, betaParam=0))\n",
    "proteins.append(Protein(shortHand='H', name='His', alphaPropensity=1.24,\n",
    "                        alphaParam=1, betaPropensity=0.71, betaParam=-1))\n",
    "proteins.append(Protein(shortHand='I', name='Ile', alphaPropensity=1.00,\n",
    "                        alphaParam=0.5, betaPropensity=1.60, betaParam=1))\n",
    "proteins.append(Protein(shortHand='L', name='Leu', alphaPropensity=1.34,\n",
    "                        alphaParam=1, betaPropensity=1.22, betaParam=1))\n",
    "proteins.append(Protein(shortHand='K', name='Lys', alphaPropensity=1.07,\n",
    "                        alphaParam=0.5, betaPropensity=0.74, betaParam=-1))\n",
    "proteins.append(Protein(shortHand='M', name='Met', alphaPropensity=1.20,\n",
    "                        alphaParam=1, betaPropensity=1.67, betaParam=1))\n",
    "proteins.append(Protein(shortHand='F', name='Phe', alphaPropensity=1.12,\n",
    "                        alphaParam=1, betaPropensity=1.28, betaParam=1))\n",
    "proteins.append(Protein(shortHand='P', name='Pro', alphaPropensity=0.59,\n",
    "                        alphaParam=-1, betaPropensity=0.62, betaParam=-1))\n",
    "proteins.append(Protein(shortHand='S', name='Ser', alphaPropensity=0.79,\n",
    "                        alphaParam=0, betaPropensity=0.72, betaParam=-1))\n",
    "proteins.append(Protein(shortHand='T', name='Thr', alphaPropensity=0.82,\n",
    "                        alphaParam=0, betaPropensity=1.20, betaParam=1))\n",
    "proteins.append(Protein(shortHand='W', name='Trp', alphaPropensity=1.14,\n",
    "                        alphaParam=1, betaPropensity=1.19, betaParam=1))\n",
    "proteins.append(Protein(shortHand='Y', name='Tyr', alphaPropensity=0.61,\n",
    "                        alphaParam=-1, betaPropensity=1.29, betaParam=1))\n",
    "proteins.append(Protein(shortHand='V', name='Val', alphaPropensity=1.14,\n",
    "                        alphaParam=1, betaPropensity=1.65, betaParam=1))"
   ]
  },
  {
   "cell_type": "code",
   "execution_count": 87,
   "metadata": {},
   "outputs": [],
   "source": [
    "# creating a dictionary of protiens\n",
    "proteinDict = {}\n",
    "for i in proteins:\n",
    "    proteinDict[i.shortHand] = i"
   ]
  },
  {
   "cell_type": "code",
   "execution_count": 88,
   "metadata": {},
   "outputs": [],
   "source": [
    "# the protien sequence\n",
    "proteinSeq = \"SGFRKMAFPSGKVEGCMVQVTCGTTTLNGLWLDDTVYCPRHVICTAEDMLNPNYEDLLIRKSNHSFLVQAGNVQLRVIGHSMQNCLLRLKVDTSNPKTPKYKFVRIQPGQTFSVLACYNGSPSGVYQCAMRPNHTIKGSFLNGSCGSVGF\""
   ]
  },
  {
   "cell_type": "code",
   "execution_count": 89,
   "metadata": {},
   "outputs": [],
   "source": [
    "# H -> Alpha Helix\n",
    "# S -> Beta Strand\n",
    "# T -> Turn\n",
    "# E -> Empty\n",
    "# B -> Both\n",
    "# creating a list to correspond the helix/strand/turn to the protien sequence\n",
    "entriesSeq = []\n",
    "for i in range(len(proteinSeq)):\n",
    "    entriesSeq.append('E')"
   ]
  },
  {
   "cell_type": "code",
   "execution_count": 90,
   "metadata": {},
   "outputs": [],
   "source": [
    "# function to mark the sequences as helix/ strand/ turn\n",
    "def markSeq(i, j, ch):\n",
    "    for x in range(i, j + 1):\n",
    "        if entriesSeq[x] == 'E':\n",
    "            entriesSeq[x] = ch\n",
    "        elif entriesSeq[x] == ch:\n",
    "            continue\n",
    "        else:\n",
    "            entriesSeq[x] = 'B'"
   ]
  },
  {
   "cell_type": "code",
   "execution_count": 91,
   "metadata": {},
   "outputs": [],
   "source": [
    "def markChangedSeq(i, j, ch):\n",
    "    for x in range(i, j + 1):\n",
    "        entriesSeq[x] = ch"
   ]
  },
  {
   "cell_type": "code",
   "execution_count": 92,
   "metadata": {},
   "outputs": [],
   "source": [
    "def extendRight(start, windowSize, ch, minScore):\n",
    "    if start + windowSize - 1 >= len(proteinSeq):\n",
    "        return\n",
    "    propensity = 0\n",
    "    i = start\n",
    "    j = start\n",
    "    while j < start + windowSize:\n",
    "        currProt = proteinSeq[j]\n",
    "        if ch == 'H':\n",
    "            propensity += proteinDict[currProt].alphaPropensity\n",
    "        else:\n",
    "            propensity += proteinDict[currProt].betaPropensity\n",
    "        j += 1\n",
    "    j -= 1\n",
    "    while propensity >= minScore:\n",
    "        markSeq(j, j, ch)\n",
    "        if j == len(proteinSeq) - 1:\n",
    "            break\n",
    "        iprot = proteinSeq[i]\n",
    "        jprot = proteinSeq[j + 1]\n",
    "        if ch == 'H':\n",
    "            propensity -= proteinDict[iprot].alphaPropensity\n",
    "            propensity += proteinDict[jprot].alphaPropensity\n",
    "        else:\n",
    "            propensity -= proteinDict[iprot].betaPropensity\n",
    "            propensity += proteinDict[jprot].betaPropensity\n",
    "        i += 1\n",
    "        j += 1"
   ]
  },
  {
   "cell_type": "code",
   "execution_count": 93,
   "metadata": {},
   "outputs": [],
   "source": [
    "def extendLeft(start, windowSize, ch, minScore):\n",
    "    if start - windowSize + 1 < 0:\n",
    "        return\n",
    "    propensity = 0\n",
    "    i = start\n",
    "    j = start\n",
    "    while j > start - windowSize:\n",
    "        currProt = proteinSeq[j]\n",
    "        if ch == 'H':\n",
    "            propensity += proteinDict[currProt].alphaPropensity\n",
    "        else:\n",
    "            propensity += proteinDict[currProt].betaPropensity\n",
    "        j -= 1\n",
    "    j += 1\n",
    "    while propensity >= minScore:\n",
    "        markSeq(j, j, ch)\n",
    "        if j == 0:\n",
    "            break\n",
    "        iprot = proteinSeq[i]\n",
    "        jprot = proteinSeq[j - 1]\n",
    "        if ch == 'H':\n",
    "            propensity -= proteinDict[iprot].alphaPropensity\n",
    "            propensity += proteinDict[jprot].alphaPropensity\n",
    "        else: \n",
    "            propensity -= proteinDict[iprot].betaPropensity\n",
    "            propensity += proteinDict[jprot].betaPropensity\n",
    "        i -= 1\n",
    "        j -= 1"
   ]
  },
  {
   "cell_type": "code",
   "execution_count": 94,
   "metadata": {},
   "outputs": [
    {
     "output_type": "stream",
     "name": "stdout",
     "text": [
      "S Ser 0.79 0 0.72\nG Gly 0.53 -1 0.81\nF Phe 1.12 1 1.28\nR Arg 0.79 0 0.9\nK Lys 1.07 0.5 0.74\nM Met 1.2 1 1.67\nA Ala 1.45 1 0.97\nF Phe 1.12 1 1.28\nP Pro 0.59 -1 0.62\nS Ser 0.79 0 0.72\nG Gly 0.53 -1 0.81\nK Lys 1.07 0.5 0.74\nV Val 1.14 1 1.65\nE Glu 1.53 1 0.26\nG Gly 0.53 -1 0.81\nC Cys 0.77 0 1.3\nM Met 1.2 1 1.67\nV Val 1.14 1 1.65\nQ Gln 1.17 1 1.23\nV Val 1.14 1 1.65\nT Thr 0.82 0 1.2\nC Cys 0.77 0 1.3\nG Gly 0.53 -1 0.81\nT Thr 0.82 0 1.2\nT Thr 0.82 0 1.2\nT Thr 0.82 0 1.2\nL Leu 1.34 1 1.22\nN Asn 0.73 -1 0.65\nG Gly 0.53 -1 0.81\nL Leu 1.34 1 1.22\nW Trp 1.14 1 1.19\nL Leu 1.34 1 1.22\nD Asp 0.98 0 0.8\nD Asp 0.98 0 0.8\nT Thr 0.82 0 1.2\nV Val 1.14 1 1.65\nY Tyr 0.61 -1 1.29\nC Cys 0.77 0 1.3\nP Pro 0.59 -1 0.62\nR Arg 0.79 0 0.9\nH His 1.24 1 0.71\nV Val 1.14 1 1.65\nI Ile 1.0 0.5 1.6\nC Cys 0.77 0 1.3\nT Thr 0.82 0 1.2\nA Ala 1.45 1 0.97\nE Glu 1.53 1 0.26\nD Asp 0.98 0 0.8\nM Met 1.2 1 1.67\nL Leu 1.34 1 1.22\nN Asn 0.73 -1 0.65\nP Pro 0.59 -1 0.62\nN Asn 0.73 -1 0.65\nY Tyr 0.61 -1 1.29\nE Glu 1.53 1 0.26\nD Asp 0.98 0 0.8\nL Leu 1.34 1 1.22\nL Leu 1.34 1 1.22\nI Ile 1.0 0.5 1.6\nR Arg 0.79 0 0.9\nK Lys 1.07 0.5 0.74\nS Ser 0.79 0 0.72\nN Asn 0.73 -1 0.65\nH His 1.24 1 0.71\nS Ser 0.79 0 0.72\nF Phe 1.12 1 1.28\nL Leu 1.34 1 1.22\nV Val 1.14 1 1.65\nQ Gln 1.17 1 1.23\nA Ala 1.45 1 0.97\nG Gly 0.53 -1 0.81\nN Asn 0.73 -1 0.65\nV Val 1.14 1 1.65\nQ Gln 1.17 1 1.23\nL Leu 1.34 1 1.22\nR Arg 0.79 0 0.9\nV Val 1.14 1 1.65\nI Ile 1.0 0.5 1.6\nG Gly 0.53 -1 0.81\nH His 1.24 1 0.71\nS Ser 0.79 0 0.72\nM Met 1.2 1 1.67\nQ Gln 1.17 1 1.23\nN Asn 0.73 -1 0.65\nC Cys 0.77 0 1.3\nL Leu 1.34 1 1.22\nL Leu 1.34 1 1.22\nR Arg 0.79 0 0.9\nL Leu 1.34 1 1.22\nK Lys 1.07 0.5 0.74\nV Val 1.14 1 1.65\nD Asp 0.98 0 0.8\nT Thr 0.82 0 1.2\nS Ser 0.79 0 0.72\nN Asn 0.73 -1 0.65\nP Pro 0.59 -1 0.62\nK Lys 1.07 0.5 0.74\nT Thr 0.82 0 1.2\nP Pro 0.59 -1 0.62\nK Lys 1.07 0.5 0.74\nY Tyr 0.61 -1 1.29\nK Lys 1.07 0.5 0.74\nF Phe 1.12 1 1.28\nV Val 1.14 1 1.65\nR Arg 0.79 0 0.9\nI Ile 1.0 0.5 1.6\nQ Gln 1.17 1 1.23\nP Pro 0.59 -1 0.62\nG Gly 0.53 -1 0.81\nQ Gln 1.17 1 1.23\nT Thr 0.82 0 1.2\nF Phe 1.12 1 1.28\nS Ser 0.79 0 0.72\nV Val 1.14 1 1.65\nL Leu 1.34 1 1.22\nA Ala 1.45 1 0.97\nC Cys 0.77 0 1.3\nY Tyr 0.61 -1 1.29\nN Asn 0.73 -1 0.65\nG Gly 0.53 -1 0.81\nS Ser 0.79 0 0.72\nP Pro 0.59 -1 0.62\nS Ser 0.79 0 0.72\nG Gly 0.53 -1 0.81\nV Val 1.14 1 1.65\nY Tyr 0.61 -1 1.29\nQ Gln 1.17 1 1.23\nC Cys 0.77 0 1.3\nA Ala 1.45 1 0.97\nM Met 1.2 1 1.67\nR Arg 0.79 0 0.9\nP Pro 0.59 -1 0.62\nN Asn 0.73 -1 0.65\nH His 1.24 1 0.71\nT Thr 0.82 0 1.2\nI Ile 1.0 0.5 1.6\nK Lys 1.07 0.5 0.74\nG Gly 0.53 -1 0.81\nS Ser 0.79 0 0.72\nF Phe 1.12 1 1.28\nL Leu 1.34 1 1.22\nN Asn 0.73 -1 0.65\nG Gly 0.53 -1 0.81\nS Ser 0.79 0 0.72\nC Cys 0.77 0 1.3\nG Gly 0.53 -1 0.81\nS Ser 0.79 0 0.72\nV Val 1.14 1 1.65\nG Gly 0.53 -1 0.81\nF Phe 1.12 1 1.28\n"
     ]
    }
   ],
   "source": [
    "for i in proteinSeq:\n",
    "    print(i, proteinDict[i].name, proteinDict[i].alphaPropensity, proteinDict[i].alphaParam, proteinDict[i].betaPropensity)"
   ]
  },
  {
   "cell_type": "code",
   "execution_count": 95,
   "metadata": {},
   "outputs": [],
   "source": [
    "def calculateHelixAndStrand(ch):\n",
    "    i = 0\n",
    "    j = 0\n",
    "    former = 0\n",
    "    breaker = 0\n",
    "    acceptable = 0\n",
    "    if ch == 'H':\n",
    "        while j < 6:\n",
    "            currProt = proteinSeq[j]\n",
    "            if proteinDict[currProt].alphaPropensity >= 1:\n",
    "                acceptable += 1\n",
    "            if proteinDict[currProt].alphaParam > 0:\n",
    "                former += 1\n",
    "            elif proteinDict[currProt].alphaParam == -1:\n",
    "                breaker += 1\n",
    "            if j == 5:\n",
    "                break\n",
    "            j += 1\n",
    "        while j < len(proteinSeq):\n",
    "            if acceptable >= 4 and former >= 4 and breaker <= 1:\n",
    "            # if acceptable >= 4:\n",
    "                markSeq(i, j, ch)\n",
    "                extendRight(j - 2, 4, ch, 4)\n",
    "                extendLeft(i + 2, 4, ch, 4)\n",
    "            if j == len(proteinSeq) - 1:\n",
    "                break\n",
    "            iprot = proteinSeq[i]\n",
    "            jprot = proteinSeq[j + 1]\n",
    "            if proteinDict[iprot].alphaPropensity >= 1:\n",
    "                acceptable -= 1\n",
    "            if proteinDict[jprot].alphaPropensity >= 1:\n",
    "                acceptable += 1\n",
    "            if proteinDict[iprot].alphaParam > 0:\n",
    "                former -= 1\n",
    "            elif proteinDict[iprot].alphaParam == -1:\n",
    "                breaker -= 1\n",
    "            if proteinDict[jprot].alphaParam > 0:\n",
    "                former += 1\n",
    "            elif proteinDict[jprot].alphaParam == -1:\n",
    "                breaker += 1\n",
    "            i += 1\n",
    "            j += 1\n",
    "    elif ch == 'S':\n",
    "        while j < 5:\n",
    "            currProt = proteinSeq[j]\n",
    "            if proteinDict[currProt].betaPropensity >= 1:\n",
    "                acceptable += 1\n",
    "            if proteinDict[currProt].betaParam > 0:\n",
    "                former += 1\n",
    "            elif proteinDict[currProt].betaParam == -1:\n",
    "                breaker += 1\n",
    "            if j == 4:\n",
    "                break\n",
    "            j += 1\n",
    "        while j < len(proteinSeq):\n",
    "            if acceptable >= 3 and former >= 3 and breaker <= 1:\n",
    "            # if acceptable >= 3:\n",
    "                markSeq(i, j, ch)\n",
    "                extendRight(j - 2, 4, ch, 4)\n",
    "                extendLeft(i + 2, 4, ch, 4)\n",
    "            if j == len(proteinSeq) - 1:\n",
    "                break\n",
    "            iprot = proteinSeq[i]\n",
    "            jprot = proteinSeq[j + 1]\n",
    "            if proteinDict[iprot].betaPropensity >= 1:\n",
    "                acceptable -= 1\n",
    "            if proteinDict[jprot].betaPropensity >= 1:\n",
    "                acceptable += 1\n",
    "            if proteinDict[iprot].betaParam > 0:\n",
    "                former -= 1\n",
    "            elif proteinDict[iprot].betaParam == -1:\n",
    "                breaker -= 1\n",
    "            if proteinDict[jprot].betaParam > 0:\n",
    "                former += 1\n",
    "            elif proteinDict[jprot].betaParam == -1:\n",
    "                breaker += 1\n",
    "            i += 1\n",
    "            j += 1"
   ]
  },
  {
   "cell_type": "code",
   "execution_count": 96,
   "metadata": {},
   "outputs": [],
   "source": [
    "def resolveConflict(i, j):\n",
    "    print(i, j, \"hi\")\n",
    "    alphaSum = 0\n",
    "    betaSum = 0\n",
    "    for x in range(i, j + 1):\n",
    "        currProt = proteinSeq[x]\n",
    "        alphaSum += proteinDict[currProt].alphaPropensity\n",
    "        betaSum += proteinDict[currProt].betaPropensity\n",
    "    print(alphaSum, betaSum)\n",
    "    if alphaSum >= betaSum:\n",
    "        print(\"hello\")\n",
    "        markChangedSeq(i, j, 'H')\n",
    "    else:\n",
    "        print(\"hello2\")\n",
    "        markChangedSeq(i, j, 'S')"
   ]
  },
  {
   "cell_type": "code",
   "execution_count": 97,
   "metadata": {},
   "outputs": [],
   "source": [
    "def calcFinalResult():\n",
    "    i = 0\n",
    "    while i < len(proteinSeq):\n",
    "        if entriesSeq[i] == 'E':\n",
    "            entriesSeq[i] = 'T'\n",
    "        elif entriesSeq[i] == 'B':\n",
    "            j = i\n",
    "            while entriesSeq[j] == 'B':\n",
    "                # if j == len(proteinSeq) - 1:\n",
    "                    # break\n",
    "                j += 1\n",
    "            j -= 1\n",
    "            resolveConflict(i, j)\n",
    "            i = j\n",
    "        i += 1"
   ]
  },
  {
   "cell_type": "code",
   "execution_count": 98,
   "metadata": {},
   "outputs": [
    {
     "output_type": "stream",
     "name": "stdout",
     "text": [
      "12 21 hi\n10.209999999999999 12.72\nhello2\n39 46 hi\n8.74 8.59\nhello\n53 60 hi\n8.66 8.030000000000001\nhello\n64 92 hi\n30.1 32.81999999999999\nhello2\n99 107 hi\n8.56 10.05\nhello2\n109 117 hi\n9.209999999999999 10.86\nhello2\n124 131 hi\n7.72 9.629999999999999\nhello2\n"
     ]
    }
   ],
   "source": [
    "calculateHelixAndStrand('H')\n",
    "calculateHelixAndStrand('S')\n",
    "calcFinalResult()\n",
    "# for i in range(len(proteinSeq)):\n",
    "#     print(proteinSeq[i], entriesSeq[i])"
   ]
  },
  {
   "cell_type": "code",
   "execution_count": 99,
   "metadata": {},
   "outputs": [
    {
     "output_type": "stream",
     "name": "stdout",
     "text": [
      "THHHHHHHHHHHSSSSSSSSSSSSSSSSSSSSSSSSSSSHHHHHHHHHHHHTTHHHHHHHHHHHSSSSSSSSSSSSSSSSSSSSSSSSSSSSSSTTTTTSSSSSSSSSSSSSSSSSSSSSTTSSSSSSSSSSTTTHHHHHHTTTTTTTTT"
     ]
    }
   ],
   "source": [
    "for i in entriesSeq:\n",
    "    print(i, end=\"\")"
   ]
  },
  {
   "cell_type": "code",
   "execution_count": 100,
   "metadata": {},
   "outputs": [
    {
     "output_type": "stream",
     "name": "stdout",
     "text": [
      "150 150\n26 H S\n27 H S\n28 H S\n29 H S\n30 H S\n31 H S\n32 H S\n33 H S\n34 H S\n63 S H\n98 H T\n"
     ]
    }
   ],
   "source": [
    "newEntrySeq = \"THHHHHHHHHHHSSSSSSSSSSSSSSHHHHHHHHHSSSSHHHHHHHHHHHHTTHHHHHHHHHHSSSSSSSSSSSSSSSSSSSSSSSSSSSSSSSTTTTHSSSSSSSSSSSSSSSSSSSSSTTSSSSSSSSSSTTTHHHHHHTTTTTTTTT\"\n",
    "newEntrySeq1 = \"THHHHHHHHHHHSSSSSSSSSSSSSSHHHHHHHHHSSSSHHHHHHHHHHHHTTHHHHHHHHHHSSSSSSSSSSSSSSSSSSSSSSSSSSSSSSSTTTTHSSSSSSSSSSSSSSSSSSSSSTTSSSSSSSSSSTTTHHHHHHTTTTT\"\n",
    "print(len(newEntrySeq), len(entriesSeq))\n",
    "for i in range(len(newEntrySeq)):\n",
    "    if newEntrySeq[i] == entriesSeq[i]:\n",
    "        continue\n",
    "    else:\n",
    "        print(i, newEntrySeq[i], entriesSeq[i])"
   ]
  },
  {
   "cell_type": "code",
   "execution_count": null,
   "metadata": {},
   "outputs": [],
   "source": []
  }
 ]
}