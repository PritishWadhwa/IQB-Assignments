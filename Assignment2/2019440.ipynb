{
 "metadata": {
  "language_info": {
   "codemirror_mode": {
    "name": "ipython",
    "version": 3
   },
   "file_extension": ".py",
   "mimetype": "text/x-python",
   "name": "python",
   "nbconvert_exporter": "python",
   "pygments_lexer": "ipython3",
   "version": "3.9.1-final"
  },
  "orig_nbformat": 2,
  "kernelspec": {
   "name": "python391jvsc74a57bd07812ea015bdcee6f23a998adcdd2ef97c151c0c241b7b7070987d9313e41299d",
   "display_name": "Python 3.9.1 64-bit"
  },
  "metadata": {
   "interpreter": {
    "hash": "7812ea015bdcee6f23a998adcdd2ef97c151c0c241b7b7070987d9313e41299d"
   }
  }
 },
 "nbformat": 4,
 "nbformat_minor": 2,
 "cells": [
  {
   "source": [
    "# <center>Introduction to Quantitative Biology(BIO213-IQB)</center>\n",
    "## <center>Assignment 2</center>\n",
    "<h5><div style=\"text-align: right\">Efforts By: Pritish Wadhwa (2019440)</div></h5>\n",
    "<hr>"
   ],
   "cell_type": "markdown",
   "metadata": {}
  },
  {
   "source": [
    "## Question 1)\n",
    "<hr>\n",
    "Note: I have implemented 2 different versions of the algorithm. One involves alpha and beta values of H, h, I, i, B and b. The other one doesn't and completely follows the one in example.\n",
    "<br>\n",
    "<br>\n",
    "For the earlier version, I have followed the paper by Chou and Fasman, and termed i alpha and i beta as indifferent, i.e. the protien in their category is neither a former nor a breaker. Along with this, for helix, I have ensured that in any 6 residue window that is not a result of length extension, there are at least 4 formers and at most 1 breaker. For the beta strand, in any 5 residue window that is not a result of extensions, there are at least 3 formers, and at most 1 breaker.\n",
    "<br>\n",
    "<br>\n",
    "For the second version, that is the one given in the example, I have not implemented the above things that is H, h, I, i, B, b values."
   ],
   "cell_type": "markdown",
   "metadata": {}
  },
  {
   "source": [
    "### Part a)\n",
    "<hr>"
   ],
   "cell_type": "markdown",
   "metadata": {}
  },
  {
   "cell_type": "code",
   "execution_count": 1,
   "metadata": {},
   "outputs": [],
   "source": [
    "# creating Protein class with details like shorthand notation, name of protien, it's alpha and beta propensities along with the alpha and beta parameter\n",
    "class Protein:\n",
    "    def __init__(self, shortHand, name, alphaPropensity, alphaParam, betaPropensity, betaParam):\n",
    "        self.shortHand = shortHand\n",
    "        self.name = name\n",
    "        self.alphaPropensity = alphaPropensity\n",
    "        self.alphaParam = alphaParam\n",
    "        self.betaPropensity = betaPropensity\n",
    "        self.betaParam = betaParam"
   ]
  },
  {
   "cell_type": "code",
   "execution_count": 2,
   "metadata": {},
   "outputs": [],
   "source": [
    "# creating a list of protiens\n",
    "proteins = []\n",
    "proteins.append(Protein(shortHand='A', name='Ala', alphaPropensity=1.45,\n",
    "                        alphaParam=1, betaPropensity=0.97, betaParam=0.5))\n",
    "proteins.append(Protein(shortHand='R', name='Arg', alphaPropensity=0.79,\n",
    "                        alphaParam=0, betaPropensity=0.90, betaParam=0))\n",
    "proteins.append(Protein(shortHand='N', name='Asn', alphaPropensity=0.73,\n",
    "                        alphaParam=-1, betaPropensity=0.65, betaParam=-1))\n",
    "proteins.append(Protein(shortHand='D', name='Asp', alphaPropensity=0.98,\n",
    "                        alphaParam=0, betaPropensity=0.80, betaParam=0))\n",
    "proteins.append(Protein(shortHand='C', name='Cys', alphaPropensity=0.77,\n",
    "                        alphaParam=0, betaPropensity=1.30, betaParam=1))\n",
    "proteins.append(Protein(shortHand='Q', name='Gln', alphaPropensity=1.17,\n",
    "                        alphaParam=1, betaPropensity=1.23, betaParam=1))\n",
    "proteins.append(Protein(shortHand='E', name='Glu', alphaPropensity=1.53,\n",
    "                        alphaParam=1, betaPropensity=0.26, betaParam=-1))\n",
    "proteins.append(Protein(shortHand='G', name='Gly', alphaPropensity=0.53,\n",
    "                        alphaParam=-1, betaPropensity=0.81, betaParam=0))\n",
    "proteins.append(Protein(shortHand='H', name='His', alphaPropensity=1.24,\n",
    "                        alphaParam=1, betaPropensity=0.71, betaParam=-1))\n",
    "proteins.append(Protein(shortHand='I', name='Ile', alphaPropensity=1.00,\n",
    "                        alphaParam=0.5, betaPropensity=1.60, betaParam=1))\n",
    "proteins.append(Protein(shortHand='L', name='Leu', alphaPropensity=1.34,\n",
    "                        alphaParam=1, betaPropensity=1.22, betaParam=1))\n",
    "proteins.append(Protein(shortHand='K', name='Lys', alphaPropensity=1.07,\n",
    "                        alphaParam=0.5, betaPropensity=0.74, betaParam=-1))\n",
    "proteins.append(Protein(shortHand='M', name='Met', alphaPropensity=1.20,\n",
    "                        alphaParam=1, betaPropensity=1.67, betaParam=1))\n",
    "proteins.append(Protein(shortHand='F', name='Phe', alphaPropensity=1.12,\n",
    "                        alphaParam=1, betaPropensity=1.28, betaParam=1))\n",
    "proteins.append(Protein(shortHand='P', name='Pro', alphaPropensity=0.59,\n",
    "                        alphaParam=-1, betaPropensity=0.62, betaParam=-1))\n",
    "proteins.append(Protein(shortHand='S', name='Ser', alphaPropensity=0.79,\n",
    "                        alphaParam=0, betaPropensity=0.72, betaParam=-1))\n",
    "proteins.append(Protein(shortHand='T', name='Thr', alphaPropensity=0.82,\n",
    "                        alphaParam=0, betaPropensity=1.20, betaParam=1))\n",
    "proteins.append(Protein(shortHand='W', name='Trp', alphaPropensity=1.14,\n",
    "                        alphaParam=1, betaPropensity=1.19, betaParam=1))\n",
    "proteins.append(Protein(shortHand='Y', name='Tyr', alphaPropensity=0.61,\n",
    "                        alphaParam=-1, betaPropensity=1.29, betaParam=1))\n",
    "proteins.append(Protein(shortHand='V', name='Val', alphaPropensity=1.14,\n",
    "                        alphaParam=1, betaPropensity=1.65, betaParam=1))"
   ]
  },
  {
   "cell_type": "code",
   "execution_count": 3,
   "metadata": {},
   "outputs": [],
   "source": [
    "# creating a dictionary of protiens\n",
    "proteinDict = {}\n",
    "for i in proteins:\n",
    "    proteinDict[i.shortHand] = i"
   ]
  },
  {
   "cell_type": "code",
   "execution_count": 4,
   "metadata": {},
   "outputs": [],
   "source": [
    "# the protien sequence\n",
    "proteinSeq = \"SGFRKMAFPSGKVEGCMVQVTCGTTTLNGLWLDDTVYCPRHVICTAEDMLNPNYEDLLIRKSNHSFLVQAGNVQLRVIGHSMQNCLLRLKVDTSNPKTPKYKFVRIQPGQTFSVLACYNGSPSGVYQCAMRPNHTIKGSFLNGSCGSVGF\""
   ]
  },
  {
   "cell_type": "code",
   "execution_count": 5,
   "metadata": {},
   "outputs": [],
   "source": [
    "# H -> Alpha Helix\n",
    "# S -> Beta Strand\n",
    "# T -> Turn\n",
    "# E -> Empty\n",
    "# B -> Both\n",
    "# creating a list to correspond the helix/strand/turn to the protien sequence\n",
    "entriesSeq = []\n",
    "for i in range(len(proteinSeq)):\n",
    "    entriesSeq.append('E')"
   ]
  },
  {
   "cell_type": "code",
   "execution_count": 6,
   "metadata": {},
   "outputs": [],
   "source": [
    "# functions to mark the sequences as helix/ strand/ turn\n",
    "def markSeq(i, j, ch):\n",
    "    for x in range(i, j + 1):\n",
    "        if entriesSeq[x] == 'E':\n",
    "            entriesSeq[x] = ch\n",
    "        elif entriesSeq[x] == ch:\n",
    "            continue\n",
    "        else:\n",
    "            entriesSeq[x] = 'B'\n",
    "\n",
    "            \n",
    "def markChangedSeq(i, j, ch):\n",
    "    for x in range(i, j + 1):\n",
    "        entriesSeq[x] = ch"
   ]
  },
  {
   "cell_type": "code",
   "execution_count": 7,
   "metadata": {},
   "outputs": [],
   "source": [
    "#functions to extend the sequences to left and right\n",
    "def extendRight(start, windowSize, ch, minScore):\n",
    "    if start + windowSize - 1 >= len(proteinSeq):\n",
    "        return\n",
    "    propensity = 0\n",
    "    i = start\n",
    "    j = start\n",
    "    while j < start + windowSize:\n",
    "        currProt = proteinSeq[j]\n",
    "        if ch == 'H':\n",
    "            propensity += proteinDict[currProt].alphaPropensity\n",
    "        else:\n",
    "            propensity += proteinDict[currProt].betaPropensity\n",
    "        j += 1\n",
    "    j -= 1\n",
    "    while propensity >= minScore:\n",
    "        markSeq(j, j, ch)\n",
    "        if j == len(proteinSeq) - 1:\n",
    "            break\n",
    "        iprot = proteinSeq[i]\n",
    "        jprot = proteinSeq[j + 1]\n",
    "        if ch == 'H':\n",
    "            propensity -= proteinDict[iprot].alphaPropensity\n",
    "            propensity += proteinDict[jprot].alphaPropensity\n",
    "        else:\n",
    "            propensity -= proteinDict[iprot].betaPropensity\n",
    "            propensity += proteinDict[jprot].betaPropensity\n",
    "        i += 1\n",
    "        j += 1\n",
    "\n",
    "\n",
    "def extendLeft(start, windowSize, ch, minScore):\n",
    "    if start - windowSize + 1 < 0:\n",
    "        return\n",
    "    propensity = 0\n",
    "    i = start\n",
    "    j = start\n",
    "    while j > start - windowSize:\n",
    "        currProt = proteinSeq[j]\n",
    "        if ch == 'H':\n",
    "            propensity += proteinDict[currProt].alphaPropensity\n",
    "        else:\n",
    "            propensity += proteinDict[currProt].betaPropensity\n",
    "        j -= 1\n",
    "    j += 1\n",
    "    while propensity >= minScore:\n",
    "        markSeq(j, j, ch)\n",
    "        if j == 0:\n",
    "            break\n",
    "        iprot = proteinSeq[i]\n",
    "        jprot = proteinSeq[j - 1]\n",
    "        if ch == 'H':\n",
    "            propensity -= proteinDict[iprot].alphaPropensity\n",
    "            propensity += proteinDict[jprot].alphaPropensity\n",
    "        else: \n",
    "            propensity -= proteinDict[iprot].betaPropensity\n",
    "            propensity += proteinDict[jprot].betaPropensity\n",
    "        i -= 1\n",
    "        j -= 1"
   ]
  },
  {
   "source": [
    "In the following function, the main difference takes place. Currently the code will give the output following the first method.\n",
    "<br><br> \n",
    "To change that and to convert it to second option, there are 2 lines commented out in the following function.<br> If those lines are uncommented and just the line above the said lines are commented, the function would give output corresponding to the second method."
   ],
   "cell_type": "markdown",
   "metadata": {}
  },
  {
   "cell_type": "code",
   "execution_count": 8,
   "metadata": {},
   "outputs": [],
   "source": [
    "# function to calculate the helix and strands depending upon the character sent\n",
    "def calculateHelixAndStrand(ch):\n",
    "    i = 0\n",
    "    j = 0\n",
    "    former = 0\n",
    "    breaker = 0\n",
    "    acceptable = 0\n",
    "    if ch == 'H':\n",
    "        while j < 6:\n",
    "            currProt = proteinSeq[j]\n",
    "            if proteinDict[currProt].alphaPropensity >= 1:\n",
    "                acceptable += 1\n",
    "            if proteinDict[currProt].alphaParam > 0:\n",
    "                former += 1\n",
    "            elif proteinDict[currProt].alphaParam == -1:\n",
    "                breaker += 1\n",
    "            if j == 5:\n",
    "                break\n",
    "            j += 1\n",
    "        while j < len(proteinSeq):\n",
    "            if acceptable >= 4 and former >= 4 and breaker <= 1:\n",
    "            # if acceptable >= 4:\n",
    "                markSeq(i, j, ch)\n",
    "                extendRight(j - 2, 4, ch, 4)\n",
    "                extendLeft(i + 2, 4, ch, 4)\n",
    "            if j == len(proteinSeq) - 1:\n",
    "                break\n",
    "            iprot = proteinSeq[i]\n",
    "            jprot = proteinSeq[j + 1]\n",
    "            if proteinDict[iprot].alphaPropensity >= 1:\n",
    "                acceptable -= 1\n",
    "            if proteinDict[jprot].alphaPropensity >= 1:\n",
    "                acceptable += 1\n",
    "            if proteinDict[iprot].alphaParam > 0:\n",
    "                former -= 1\n",
    "            elif proteinDict[iprot].alphaParam == -1:\n",
    "                breaker -= 1\n",
    "            if proteinDict[jprot].alphaParam > 0:\n",
    "                former += 1\n",
    "            elif proteinDict[jprot].alphaParam == -1:\n",
    "                breaker += 1\n",
    "            i += 1\n",
    "            j += 1\n",
    "    elif ch == 'S':\n",
    "        while j < 5:\n",
    "            currProt = proteinSeq[j]\n",
    "            if proteinDict[currProt].betaPropensity >= 1:\n",
    "                acceptable += 1\n",
    "            if proteinDict[currProt].betaParam > 0:\n",
    "                former += 1\n",
    "            elif proteinDict[currProt].betaParam == -1:\n",
    "                breaker += 1\n",
    "            if j == 4:\n",
    "                break\n",
    "            j += 1\n",
    "        while j < len(proteinSeq):\n",
    "            if acceptable >= 3 and former >= 3 and breaker <= 1:\n",
    "            # if acceptable >= 3:\n",
    "                markSeq(i, j, ch)\n",
    "                extendRight(j - 2, 4, ch, 4)\n",
    "                extendLeft(i + 2, 4, ch, 4)\n",
    "            if j == len(proteinSeq) - 1:\n",
    "                break\n",
    "            iprot = proteinSeq[i]\n",
    "            jprot = proteinSeq[j + 1]\n",
    "            if proteinDict[iprot].betaPropensity >= 1:\n",
    "                acceptable -= 1\n",
    "            if proteinDict[jprot].betaPropensity >= 1:\n",
    "                acceptable += 1\n",
    "            if proteinDict[iprot].betaParam > 0:\n",
    "                former -= 1\n",
    "            elif proteinDict[iprot].betaParam == -1:\n",
    "                breaker -= 1\n",
    "            if proteinDict[jprot].betaParam > 0:\n",
    "                former += 1\n",
    "            elif proteinDict[jprot].betaParam == -1:\n",
    "                breaker += 1\n",
    "            i += 1\n",
    "            j += 1"
   ]
  },
  {
   "cell_type": "code",
   "execution_count": 9,
   "metadata": {},
   "outputs": [],
   "source": [
    "# the following function resolves the conflict when the same protien subsequence can be both alpha helix and beta sheet\n",
    "def resolveConflict(i, j):\n",
    "    alphaSum = 0\n",
    "    betaSum = 0\n",
    "    for x in range(i, j + 1):\n",
    "        currProt = proteinSeq[x]\n",
    "        alphaSum += proteinDict[currProt].alphaPropensity\n",
    "        betaSum += proteinDict[currProt].betaPropensity\n",
    "    if alphaSum >= betaSum:\n",
    "        markChangedSeq(i, j, 'H')\n",
    "    else:\n",
    "        markChangedSeq(i, j, 'S')"
   ]
  },
  {
   "cell_type": "code",
   "execution_count": 10,
   "metadata": {},
   "outputs": [],
   "source": [
    "# the following function assigns turns and calls the resolveConflict() function\n",
    "def calcFinalResult():\n",
    "    i = 0\n",
    "    while i < len(proteinSeq):\n",
    "        if entriesSeq[i] == 'E':\n",
    "            entriesSeq[i] = 'T'\n",
    "        elif entriesSeq[i] == 'B':\n",
    "            j = i\n",
    "            while entriesSeq[j] == 'B':\n",
    "                j += 1\n",
    "            j -= 1\n",
    "            resolveConflict(i, j)\n",
    "            i = j\n",
    "        i += 1"
   ]
  },
  {
   "cell_type": "code",
   "execution_count": 11,
   "metadata": {},
   "outputs": [],
   "source": [
    "# function to print the sequence\n",
    "def printSeq(originalSeq, newSeq):\n",
    "    for i in range(0, 50):\n",
    "        # print(originalSeq[i])\n",
    "        print(originalSeq[i], end=\"\", sep=\" \")\n",
    "    print()\n",
    "    print()\n",
    "    for i in range(0, 50):\n",
    "        print(newSeq[i], end=\"\", sep=\" \")\n",
    "    print()\n",
    "    print()\n",
    "    print()\n",
    "    for i in range(50, 100):\n",
    "        print(originalSeq[i], end=\"\", sep=\" \")\n",
    "    print()\n",
    "    print()\n",
    "    for i in range(50, 100):\n",
    "        print(newSeq[i], end=\"\", sep=\" \")\n",
    "    print()\n",
    "    print()\n",
    "    print()\n",
    "    for i in range(100, 150):\n",
    "        print(originalSeq[i], end=\"\", sep=\" \")\n",
    "    print()\n",
    "    print()\n",
    "    for i in range(100, 150):\n",
    "        print(newSeq[i], end=\"\", sep=\" \")"
   ]
  },
  {
   "cell_type": "code",
   "execution_count": 12,
   "metadata": {},
   "outputs": [],
   "source": [
    "# calculate helix and strands\n",
    "calculateHelixAndStrand('H')\n",
    "calculateHelixAndStrand('S')\n",
    "calcFinalResult()"
   ]
  },
  {
   "source": [
    "### Part b)\n",
    "<hr>\n",
    "The output by the first method is:\n",
    "THHHHHHHHHHHSSSSSSSSSSSSSSSSSSSSSSSSSSSHHHHHHHHHHHHTTHHHHHHHHHHHSSSSSSSSSSSSSSSSSSSSSSSSSSSSSSTTTTTSSSSSSSSSSSSSSSSSSSSSTTSSSSSSSSSSTTTHHHHHHTTTTTTTTT\n",
    "<br><br>\n",
    "The output by the second method is: THHHHHHHHHHHSSSSSSSSSSSSSSHHHHHHHHHSSSSHHHHHHHHHHHHTTHHHHHHHHHHSSSSSSSSSSSSSSSSSSSSSSSSSSSSSSSTTTTHSSSSSSSSSSSSSSSSSSSSSTTSSSSSSSSSSTTTHHHHHHTTTTTTTTT"
   ],
   "cell_type": "markdown",
   "metadata": {}
  },
  {
   "cell_type": "code",
   "execution_count": 13,
   "metadata": {},
   "outputs": [
    {
     "output_type": "stream",
     "name": "stdout",
     "text": [
      "SGFRKMAFPSGKVEGCMVQVTCGTTTLNGLWLDDTVYCPRHVICTAEDML\n\nTHHHHHHHHHHHSSSSSSSSSSSSSSSSSSSSSSSSSSSHHHHHHHHHHH\n\n\nNPNYEDLLIRKSNHSFLVQAGNVQLRVIGHSMQNCLLRLKVDTSNPKTPK\n\nHTTHHHHHHHHHHHSSSSSSSSSSSSSSSSSSSSSSSSSSSSSSTTTTTS\n\n\nYKFVRIQPGQTFSVLACYNGSPSGVYQCAMRPNHTIKGSFLNGSCGSVGF\n\nSSSSSSSSSSSSSSSSSSSSTTSSSSSSSSSSTTTHHHHHHTTTTTTTTT"
     ]
    }
   ],
   "source": [
    "# printing the sequence formed by the first method\n",
    "printSeq(proteinSeq, entriesSeq)"
   ]
  },
  {
   "source": [
    "## Question 2)\n",
    "<hr>"
   ],
   "cell_type": "markdown",
   "metadata": {}
  },
  {
   "source": [
    "My output from method 1: THHHHHHHHHHHSSSSSSSSSSSSSSSSSSSSSSSSSSSHHHHHHHHHHHHTTHHHHHHHHHHHSSSSSSSSSSSSSSSSSSSSSSSSSSSSSSTTTTTSSSSSSSSSSSSSSSSSSSSSTTSSSSSSSSSSTTTHHHHHHTTTTTTTTT\n",
    "<br><br>\n",
    "Output from Stride database:\n",
    "\n",
    "TTTT     HHHHHH EEEEEETTEEEEEEEETTEEEEEGGGG  HHHHH   HHHHHHH  GGG EEEETTEEE EEEEEEETTEEEEEE   TTTT        TTTEEEEEEEEETTEEEEEEEEEETTTT B    TTTTTTTEE "
   ],
   "cell_type": "markdown",
   "metadata": {}
  },
  {
   "cell_type": "code",
   "execution_count": 14,
   "metadata": {},
   "outputs": [],
   "source": [
    "strideOutput = \"\"\"TTTT     HHHHHH EEEEEETTEEEEEEEETTEEEEEGGGG  HHHHH   HHHHHHH  GGG EEEETTEEE EEEEEEETTEEEEEE   TTTT        TTTEEEEEEEEETTEEEEEEEEEETTTT B    TTTTTTTEE \"\"\""
   ]
  },
  {
   "cell_type": "code",
   "execution_count": 15,
   "metadata": {},
   "outputs": [
    {
     "output_type": "stream",
     "name": "stdout",
     "text": [
      "SGFRKMAFPSGKVEGCMVQVTCGTTTLNGLWLDDTVYCPRHVICTAEDML\n\nTHHHHHHHHHHHSSSSSSSSSSSSSSSSSSSSSSSSSSSHHHHHHHHHHH\n\n\nNPNYEDLLIRKSNHSFLVQAGNVQLRVIGHSMQNCLLRLKVDTSNPKTPK\n\nHTTHHHHHHHHHHHSSSSSSSSSSSSSSSSSSSSSSSSSSSSSSTTTTTS\n\n\nYKFVRIQPGQTFSVLACYNGSPSGVYQCAMRPNHTIKGSFLNGSCGSVGF\n\nSSSSSSSSSSSSSSSSSSSSTTSSSSSSSSSSTTTHHHHHHTTTTTTTTT"
     ]
    }
   ],
   "source": [
    "# print output from part 1\n",
    "printSeq(proteinSeq, entriesSeq)"
   ]
  },
  {
   "cell_type": "code",
   "execution_count": 16,
   "metadata": {},
   "outputs": [
    {
     "output_type": "stream",
     "name": "stdout",
     "text": [
      "SGFRKMAFPSGKVEGCMVQVTCGTTTLNGLWLDDTVYCPRHVICTAEDML\n\nTTTT     HHHHHH SSSSSSTTSSSSSSSSTTSSSSSGGGG  HHHHH\n\n\nNPNYEDLLIRKSNHSFLVQAGNVQLRVIGHSMQNCLLRLKVDTSNPKTPK\n\n   HHHHHHH  GGG SSSSTTSSS SSSSSSSTTSSSSSS   TTTT  \n\n\nYKFVRIQPGQTFSVLACYNGSPSGVYQCAMRPNHTIKGSFLNGSCGSVGF\n\n      TTTSSSSSSSSSTTSSSSSSSSSSTTTT B    TTTTTTTSS "
     ]
    }
   ],
   "source": [
    "#print output from stride database after making the notation consistent with the first quetion's notations\n",
    "finalStrideOutput = []\n",
    "for i in range(len(strideOutput)):\n",
    "    if strideOutput[i] == 'E':\n",
    "        finalStrideOutput.append('S')\n",
    "    else:\n",
    "        finalStrideOutput.append(strideOutput[i])\n",
    "printSeq(proteinSeq, finalStrideOutput)"
   ]
  },
  {
   "source": [
    "### Part a)\n",
    "<hr>\n",
    "Printing the differences in the 2 sequences.<br> The first column represents the indices(1 - based), the second and third columns represents the different stride output and the sequences obtained in the above part respectively."
   ],
   "cell_type": "markdown",
   "metadata": {}
  },
  {
   "cell_type": "code",
   "execution_count": 17,
   "metadata": {},
   "outputs": [
    {
     "output_type": "stream",
     "name": "stdout",
     "text": [
      "2 T H\n",
      "3 T H\n",
      "4 T H\n",
      "5   H\n",
      "6   H\n",
      "7   H\n",
      "8   H\n",
      "9   H\n",
      "13 H S\n",
      "14 H S\n",
      "15 H S\n",
      "16   S\n",
      "23 T S\n",
      "24 T S\n",
      "33 T S\n",
      "34 T S\n",
      "40 G H\n",
      "41 G H\n",
      "42 G H\n",
      "43 G H\n",
      "44   H\n",
      "45   H\n",
      "51   H\n",
      "52   T\n",
      "53   T\n",
      "61   H\n",
      "62   H\n",
      "63 G H\n",
      "64 G H\n",
      "65 G S\n",
      "66   S\n",
      "71 T S\n",
      "72 T S\n",
      "76   S\n",
      "84 T S\n",
      "85 T S\n",
      "92   S\n",
      "93   S\n",
      "94   S\n",
      "99   T\n",
      "100   S\n",
      "101   S\n",
      "102   S\n",
      "103   S\n",
      "104   S\n",
      "105   S\n",
      "106   S\n",
      "107 T S\n",
      "108 T S\n",
      "109 T S\n",
      "119 T S\n",
      "120 T S\n",
      "121 S T\n",
      "122 S T\n",
      "131 T S\n",
      "132 T S\n",
      "135   T\n",
      "136 B H\n",
      "137   H\n",
      "138   H\n",
      "139   H\n",
      "140   H\n",
      "141 T H\n",
      "148 S T\n",
      "149 S T\n",
      "150   T\n"
     ]
    }
   ],
   "source": [
    "ctr = 0\n",
    "for i in range(len(entriesSeq)):\n",
    "    if finalStrideOutput[i] == entriesSeq[i]:\n",
    "        continue\n",
    "    else:\n",
    "        print(i + 1, finalStrideOutput[i], entriesSeq[i])\n",
    "        ctr += 1\n",
    "percentageAccuracy = (ctr*100)/len(strideOutput)"
   ]
  },
  {
   "cell_type": "code",
   "execution_count": 18,
   "metadata": {},
   "outputs": [
    {
     "output_type": "stream",
     "name": "stdout",
     "text": [
      "Number of matches: 66\nPercentage of matches: 44.0\n"
     ]
    }
   ],
   "source": [
    "#printing number of common sequences and % similarity\n",
    "print(\"Number of matches: \", ctr, sep=\"\")\n",
    "print(\"Percentage of matches: \", percentageAccuracy, sep=\"\")"
   ]
  },
  {
   "source": [
    "### Part b)\n",
    "<hr>\n",
    "The differences in the outputs are due to various reasons:\n",
    "<ul>\n",
    "<li>First of all, the stride database does not predict the structure, it merely assigns it given the 3D orientation.</li>\n",
    "<li>Whereas, in the Chou-Fasman method, we are actually predicting the structure using a well defined algorithm.</li>\n",
    "<li>While the stride database is a dictionary searching like method.</li>\n",
    "<li>The Chou-Fasman method follows a proper algorithm to predict the structure.</li>\n",
    "<li>In the Chou-Fasman method, a variety of values like alpha propensity, beta propensity, H alpha, h alpha, H beta, h beta and so on are used</li>\n",
    "<li>These values help determine whether any particular protien residue would be alpha helix, strand or turn</li>\n",
    "<li>The stride search also takes into account various smaller residues like coil, 310Helix and so on</li>\n",
    "<li>Unlike the stride search, Chou-Fasman algorithm does not look for these and just return weather the residue in question is part of an alpha helix, a strand or a turn</li>\n",
    "<li>In the Chou-Fasman algorithm, while handling the conflicts, that is the locations where the residue can be both alpha helix and strand, the average of propensities is taken and the result is returned correspondingly. This might not be always the correct way to follow.</li>\n",
    "<li>In the above approach for the Chou-Fasman algorithm, we are not calculating the residues for turns. We are merely assigning the locations which are neither alpha helices nor strands. This is not the right way to go about as there are other orientations possible which could have been there.</li>\n",
    "<li>Chau-Fasman method also fails to identify other parameters like protien folding and hydrophobicity between different protiens</li>\n",
    "<li>Due to the above points, the Chou-Fasman method is generally not able to be highly accurate.</li>\n",
    "</ul>"
   ],
   "cell_type": "markdown",
   "metadata": {}
  }
 ]
}