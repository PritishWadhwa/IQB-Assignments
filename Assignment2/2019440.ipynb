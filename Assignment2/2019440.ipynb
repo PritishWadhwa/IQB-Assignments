{
 "metadata": {
  "language_info": {
   "codemirror_mode": {
    "name": "ipython",
    "version": 3
   },
   "file_extension": ".py",
   "mimetype": "text/x-python",
   "name": "python",
   "nbconvert_exporter": "python",
   "pygments_lexer": "ipython3",
   "version": "3.9.1-final"
  },
  "orig_nbformat": 2,
  "kernelspec": {
   "name": "python391jvsc74a57bd07812ea015bdcee6f23a998adcdd2ef97c151c0c241b7b7070987d9313e41299d",
   "display_name": "Python 3.9.1 64-bit"
  },
  "metadata": {
   "interpreter": {
    "hash": "7812ea015bdcee6f23a998adcdd2ef97c151c0c241b7b7070987d9313e41299d"
   }
  }
 },
 "nbformat": 4,
 "nbformat_minor": 2,
 "cells": [
  {
   "cell_type": "code",
   "execution_count": 1,
   "metadata": {},
   "outputs": [],
   "source": [
    "class Protien:\n",
    "    def __init__(self, shortHand, name, alphaPropensity, alphaParam, betaPropensity, betaParam):\n",
    "        self.shortHand = shortHand\n",
    "        self.name = name\n",
    "        self.alphaPropensity = alphaPropensity\n",
    "        self.alphaParam = alphaParam\n",
    "        self.betaPropensity = betaPropensity\n",
    "        self.betaParam = betaParam"
   ]
  },
  {
   "cell_type": "code",
   "execution_count": 2,
   "metadata": {},
   "outputs": [],
   "source": [
    "protiens = []\n",
    "protiens.append(Protien(shortHand='A', name='Ala', alphaPropensity=1.45, alphaParam=1, betaPropensity=0.97, betaParam=0.5))\n",
    "protiens.append(Protien(shortHand='R', name='Arg', alphaPropensity=0.79, alphaParam=0, betaPropensity=0.90, betaParam=0))\n",
    "protiens.append(Protien(shortHand='N', name='Asn', alphaPropensity=0.73, alphaParam=-1, betaPropensity=0.65, betaParam=-1))\n",
    "protiens.append(Protien(shortHand='D', name='Asp', alphaPropensity=0.98, alphaParam=0, betaPropensity=0.80, betaParam=0))\n",
    "protiens.append(Protien(shortHand='C', name='Cys', alphaPropensity=0.77, alphaParam=0, betaPropensity=1.30, betaParam=1))\n",
    "protiens.append(Protien(shortHand='Q', name='Gln', alphaPropensity=1.17, alphaParam=1, betaPropensity=1.23, betaParam=1))\n",
    "protiens.append(Protien(shortHand='E', name='Glu', alphaPropensity=1.53, alphaParam=1, betaPropensity=0.26, betaParam=-1))\n",
    "protiens.append(Protien(shortHand='G', name='Gly', alphaPropensity=0.53, alphaParam=-1, betaPropensity=0.81, betaParam=0))\n",
    "protiens.append(Protien(shortHand='H', name='His', alphaPropensity=1.24, alphaParam=1, betaPropensity=0.71, betaParam=-1))\n",
    "protiens.append(Protien(shortHand='I', name='Ile', alphaPropensity=1.00, alphaParam=0.5, betaPropensity=1.60, betaParam=1))\n",
    "protiens.append(Protien(shortHand='L', name='Leu', alphaPropensity=1.34, alphaParam=1, betaPropensity=1.22, betaParam=1))\n",
    "protiens.append(Protien(shortHand='K', name='Lys', alphaPropensity=1.07, alphaParam=0.5, betaPropensity=0.74, betaParam=-1))\n",
    "protiens.append(Protien(shortHand='M', name='Met', alphaPropensity=1.20, alphaParam=1, betaPropensity=1.67, betaParam=1))\n",
    "protiens.append(Protien(shortHand='F', name='Phe', alphaPropensity=1.12, alphaParam=1, betaPropensity=1.28, betaParam=1))\n",
    "protiens.append(Protien(shortHand='P', name='Pro', alphaPropensity=0.59, alphaParam=-1, betaPropensity=0.62, betaParam=-1))\n",
    "protiens.append(Protien(shortHand='S', name='Ser', alphaPropensity=0.79, alphaParam=0, betaPropensity=0.72, betaParam=-1))\n",
    "protiens.append(Protien(shortHand='T', name='Thr', alphaPropensity=0.82, alphaParam=0, betaPropensity=1.20, betaParam=1))\n",
    "protiens.append(Protien(shortHand='W', name='Trp', alphaPropensity=1.14, alphaParam=1, betaPropensity=1.19, betaParam=1))\n",
    "protiens.append(Protien(shortHand='Y', name='Tyr', alphaPropensity=0.61, alphaParam=-1, betaPropensity=1.29, betaParam=1))\n",
    "protiens.append(Protien(shortHand='V', name='Val', alphaPropensity=1.14, alphaParam=1, betaPropensity=1.65, betaParam=1))"
   ]
  },
  {
   "cell_type": "code",
   "execution_count": 6,
   "metadata": {},
   "outputs": [],
   "source": [
    "protienDict = {}\n",
    "for i in protiens:\n",
    "    protienDict[i.shortHand] = i"
   ]
  },
  {
   "cell_type": "code",
   "execution_count": 10,
   "metadata": {},
   "outputs": [
    {
     "output_type": "stream",
     "name": "stdout",
     "text": [
      "A Ala 1.45\nR Arg 0.79\nN Asn 0.73\nD Asp 0.98\nC Cys 0.77\nQ Gln 1.17\nE Glu 1.53\nG Gly 0.53\nH His 1.24\nI Ile 1.0\nL Leu 1.34\nK Lys 1.07\nM Met 1.2\nF Phe 1.12\nP Pro 0.59\nS Ser 0.79\nT Thr 0.82\nW Trp 1.14\nY Tyr 0.61\nV Val 1.14\n"
     ]
    }
   ],
   "source": [
    "for i in protienDict:\n",
    "    print(i, protienDict[i].name, protienDict[i].alphaPropensity)"
   ]
  },
  {
   "cell_type": "code",
   "execution_count": null,
   "metadata": {},
   "outputs": [],
   "source": []
  }
 ]
}